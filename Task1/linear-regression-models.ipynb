{
 "cells": [
  {
   "cell_type": "markdown",
   "id": "2575db35",
   "metadata": {},
   "source": [
    "# Linear Regression Models\n",
    "\n",
    "## Predict individual medical costs billed by health insurance using both (Scikit-learn and Python form scratch implementation)"
   ]
  },
  {
   "cell_type": "code",
   "execution_count": 45,
   "id": "81adb778",
   "metadata": {},
   "outputs": [],
   "source": [
    "# Import needed packages\n",
    "from sklearn import linear_model\n",
    "from sklearn.metrics import r2_score\n",
    "from sklearn.metrics import mean_squared_error\n",
    "from sklearn import preprocessing\n",
    "\n",
    "import numpy as np\n",
    "import pandas as pd\n",
    "\n",
    "import matplotlib.pyplot as plt\n",
    "%matplotlib inline"
   ]
  },
  {
   "cell_type": "code",
   "execution_count": 46,
   "id": "f165e294",
   "metadata": {},
   "outputs": [
    {
     "data": {
      "text/html": [
       "<div>\n",
       "<style scoped>\n",
       "    .dataframe tbody tr th:only-of-type {\n",
       "        vertical-align: middle;\n",
       "    }\n",
       "\n",
       "    .dataframe tbody tr th {\n",
       "        vertical-align: top;\n",
       "    }\n",
       "\n",
       "    .dataframe thead th {\n",
       "        text-align: right;\n",
       "    }\n",
       "</style>\n",
       "<table border=\"1\" class=\"dataframe\">\n",
       "  <thead>\n",
       "    <tr style=\"text-align: right;\">\n",
       "      <th></th>\n",
       "      <th>age</th>\n",
       "      <th>sex</th>\n",
       "      <th>bmi</th>\n",
       "      <th>children</th>\n",
       "      <th>smoker</th>\n",
       "      <th>region</th>\n",
       "      <th>charges</th>\n",
       "    </tr>\n",
       "  </thead>\n",
       "  <tbody>\n",
       "    <tr>\n",
       "      <th>0</th>\n",
       "      <td>19</td>\n",
       "      <td>female</td>\n",
       "      <td>27.900</td>\n",
       "      <td>0</td>\n",
       "      <td>yes</td>\n",
       "      <td>southwest</td>\n",
       "      <td>16884.92400</td>\n",
       "    </tr>\n",
       "    <tr>\n",
       "      <th>1</th>\n",
       "      <td>18</td>\n",
       "      <td>male</td>\n",
       "      <td>33.770</td>\n",
       "      <td>1</td>\n",
       "      <td>no</td>\n",
       "      <td>southeast</td>\n",
       "      <td>1725.55230</td>\n",
       "    </tr>\n",
       "    <tr>\n",
       "      <th>2</th>\n",
       "      <td>28</td>\n",
       "      <td>male</td>\n",
       "      <td>33.000</td>\n",
       "      <td>3</td>\n",
       "      <td>no</td>\n",
       "      <td>southeast</td>\n",
       "      <td>4449.46200</td>\n",
       "    </tr>\n",
       "    <tr>\n",
       "      <th>3</th>\n",
       "      <td>33</td>\n",
       "      <td>male</td>\n",
       "      <td>22.705</td>\n",
       "      <td>0</td>\n",
       "      <td>no</td>\n",
       "      <td>northwest</td>\n",
       "      <td>21984.47061</td>\n",
       "    </tr>\n",
       "    <tr>\n",
       "      <th>4</th>\n",
       "      <td>32</td>\n",
       "      <td>male</td>\n",
       "      <td>28.880</td>\n",
       "      <td>0</td>\n",
       "      <td>no</td>\n",
       "      <td>northwest</td>\n",
       "      <td>3866.85520</td>\n",
       "    </tr>\n",
       "  </tbody>\n",
       "</table>\n",
       "</div>"
      ],
      "text/plain": [
       "   age     sex     bmi  children smoker     region      charges\n",
       "0   19  female  27.900         0    yes  southwest  16884.92400\n",
       "1   18    male  33.770         1     no  southeast   1725.55230\n",
       "2   28    male  33.000         3     no  southeast   4449.46200\n",
       "3   33    male  22.705         0     no  northwest  21984.47061\n",
       "4   32    male  28.880         0     no  northwest   3866.85520"
      ]
     },
     "execution_count": 46,
     "metadata": {},
     "output_type": "execute_result"
    }
   ],
   "source": [
    "# Read data into a dataframe\n",
    "df = pd.read_csv(\"insurance.csv\")\n",
    "\n",
    "# View a sample of the data\n",
    "df.head()"
   ]
  },
  {
   "cell_type": "markdown",
   "id": "8c49a6d5",
   "metadata": {},
   "source": [
    "### Convert categorical data into numeric"
   ]
  },
  {
   "cell_type": "code",
   "execution_count": 47,
   "id": "afaa48c6",
   "metadata": {},
   "outputs": [
    {
     "data": {
      "text/html": [
       "<div>\n",
       "<style scoped>\n",
       "    .dataframe tbody tr th:only-of-type {\n",
       "        vertical-align: middle;\n",
       "    }\n",
       "\n",
       "    .dataframe tbody tr th {\n",
       "        vertical-align: top;\n",
       "    }\n",
       "\n",
       "    .dataframe thead th {\n",
       "        text-align: right;\n",
       "    }\n",
       "</style>\n",
       "<table border=\"1\" class=\"dataframe\">\n",
       "  <thead>\n",
       "    <tr style=\"text-align: right;\">\n",
       "      <th></th>\n",
       "      <th>age</th>\n",
       "      <th>bmi</th>\n",
       "      <th>children</th>\n",
       "      <th>charges</th>\n",
       "      <th>smoker_yes</th>\n",
       "      <th>sex_male</th>\n",
       "      <th>region_northwest</th>\n",
       "      <th>region_southeast</th>\n",
       "      <th>region_southwest</th>\n",
       "    </tr>\n",
       "  </thead>\n",
       "  <tbody>\n",
       "    <tr>\n",
       "      <th>0</th>\n",
       "      <td>19</td>\n",
       "      <td>27.900</td>\n",
       "      <td>0</td>\n",
       "      <td>16884.92400</td>\n",
       "      <td>1</td>\n",
       "      <td>0</td>\n",
       "      <td>0</td>\n",
       "      <td>0</td>\n",
       "      <td>1</td>\n",
       "    </tr>\n",
       "    <tr>\n",
       "      <th>1</th>\n",
       "      <td>18</td>\n",
       "      <td>33.770</td>\n",
       "      <td>1</td>\n",
       "      <td>1725.55230</td>\n",
       "      <td>0</td>\n",
       "      <td>1</td>\n",
       "      <td>0</td>\n",
       "      <td>1</td>\n",
       "      <td>0</td>\n",
       "    </tr>\n",
       "    <tr>\n",
       "      <th>2</th>\n",
       "      <td>28</td>\n",
       "      <td>33.000</td>\n",
       "      <td>3</td>\n",
       "      <td>4449.46200</td>\n",
       "      <td>0</td>\n",
       "      <td>1</td>\n",
       "      <td>0</td>\n",
       "      <td>1</td>\n",
       "      <td>0</td>\n",
       "    </tr>\n",
       "    <tr>\n",
       "      <th>3</th>\n",
       "      <td>33</td>\n",
       "      <td>22.705</td>\n",
       "      <td>0</td>\n",
       "      <td>21984.47061</td>\n",
       "      <td>0</td>\n",
       "      <td>1</td>\n",
       "      <td>1</td>\n",
       "      <td>0</td>\n",
       "      <td>0</td>\n",
       "    </tr>\n",
       "    <tr>\n",
       "      <th>4</th>\n",
       "      <td>32</td>\n",
       "      <td>28.880</td>\n",
       "      <td>0</td>\n",
       "      <td>3866.85520</td>\n",
       "      <td>0</td>\n",
       "      <td>1</td>\n",
       "      <td>1</td>\n",
       "      <td>0</td>\n",
       "      <td>0</td>\n",
       "    </tr>\n",
       "  </tbody>\n",
       "</table>\n",
       "</div>"
      ],
      "text/plain": [
       "   age     bmi  children      charges  smoker_yes  sex_male  region_northwest  \\\n",
       "0   19  27.900         0  16884.92400           1         0                 0   \n",
       "1   18  33.770         1   1725.55230           0         1                 0   \n",
       "2   28  33.000         3   4449.46200           0         1                 0   \n",
       "3   33  22.705         0  21984.47061           0         1                 1   \n",
       "4   32  28.880         0   3866.85520           0         1                 1   \n",
       "\n",
       "   region_southeast  region_southwest  \n",
       "0                 0                 1  \n",
       "1                 1                 0  \n",
       "2                 1                 0  \n",
       "3                 0                 0  \n",
       "4                 0                 0  "
      ]
     },
     "execution_count": 47,
     "metadata": {},
     "output_type": "execute_result"
    }
   ],
   "source": [
    "df = pd.get_dummies(data=df, columns=['smoker', 'sex', 'region'], drop_first=True)\n",
    "df.head()"
   ]
  },
  {
   "cell_type": "markdown",
   "id": "73ca1443",
   "metadata": {},
   "source": [
    "### Find correlation between data to identify which columns affect charges"
   ]
  },
  {
   "cell_type": "code",
   "execution_count": 48,
   "id": "996dffae",
   "metadata": {},
   "outputs": [
    {
     "data": {
      "text/html": [
       "<div>\n",
       "<style scoped>\n",
       "    .dataframe tbody tr th:only-of-type {\n",
       "        vertical-align: middle;\n",
       "    }\n",
       "\n",
       "    .dataframe tbody tr th {\n",
       "        vertical-align: top;\n",
       "    }\n",
       "\n",
       "    .dataframe thead th {\n",
       "        text-align: right;\n",
       "    }\n",
       "</style>\n",
       "<table border=\"1\" class=\"dataframe\">\n",
       "  <thead>\n",
       "    <tr style=\"text-align: right;\">\n",
       "      <th></th>\n",
       "      <th>age</th>\n",
       "      <th>bmi</th>\n",
       "      <th>children</th>\n",
       "      <th>charges</th>\n",
       "      <th>smoker_yes</th>\n",
       "      <th>sex_male</th>\n",
       "      <th>region_northwest</th>\n",
       "      <th>region_southeast</th>\n",
       "      <th>region_southwest</th>\n",
       "    </tr>\n",
       "  </thead>\n",
       "  <tbody>\n",
       "    <tr>\n",
       "      <th>age</th>\n",
       "      <td>1.000000</td>\n",
       "      <td>0.109272</td>\n",
       "      <td>0.042469</td>\n",
       "      <td>0.299008</td>\n",
       "      <td>-0.025019</td>\n",
       "      <td>-0.020856</td>\n",
       "      <td>-0.000407</td>\n",
       "      <td>-0.011642</td>\n",
       "      <td>0.010016</td>\n",
       "    </tr>\n",
       "    <tr>\n",
       "      <th>bmi</th>\n",
       "      <td>0.109272</td>\n",
       "      <td>1.000000</td>\n",
       "      <td>0.012759</td>\n",
       "      <td>0.198341</td>\n",
       "      <td>0.003750</td>\n",
       "      <td>0.046371</td>\n",
       "      <td>-0.135996</td>\n",
       "      <td>0.270025</td>\n",
       "      <td>-0.006205</td>\n",
       "    </tr>\n",
       "    <tr>\n",
       "      <th>children</th>\n",
       "      <td>0.042469</td>\n",
       "      <td>0.012759</td>\n",
       "      <td>1.000000</td>\n",
       "      <td>0.067998</td>\n",
       "      <td>0.007673</td>\n",
       "      <td>0.017163</td>\n",
       "      <td>0.024806</td>\n",
       "      <td>-0.023066</td>\n",
       "      <td>0.021914</td>\n",
       "    </tr>\n",
       "    <tr>\n",
       "      <th>charges</th>\n",
       "      <td>0.299008</td>\n",
       "      <td>0.198341</td>\n",
       "      <td>0.067998</td>\n",
       "      <td>1.000000</td>\n",
       "      <td>0.787251</td>\n",
       "      <td>0.057292</td>\n",
       "      <td>-0.039905</td>\n",
       "      <td>0.073982</td>\n",
       "      <td>-0.043210</td>\n",
       "    </tr>\n",
       "    <tr>\n",
       "      <th>smoker_yes</th>\n",
       "      <td>-0.025019</td>\n",
       "      <td>0.003750</td>\n",
       "      <td>0.007673</td>\n",
       "      <td>0.787251</td>\n",
       "      <td>1.000000</td>\n",
       "      <td>0.076185</td>\n",
       "      <td>-0.036945</td>\n",
       "      <td>0.068498</td>\n",
       "      <td>-0.036945</td>\n",
       "    </tr>\n",
       "    <tr>\n",
       "      <th>sex_male</th>\n",
       "      <td>-0.020856</td>\n",
       "      <td>0.046371</td>\n",
       "      <td>0.017163</td>\n",
       "      <td>0.057292</td>\n",
       "      <td>0.076185</td>\n",
       "      <td>1.000000</td>\n",
       "      <td>-0.011156</td>\n",
       "      <td>0.017117</td>\n",
       "      <td>-0.004184</td>\n",
       "    </tr>\n",
       "    <tr>\n",
       "      <th>region_northwest</th>\n",
       "      <td>-0.000407</td>\n",
       "      <td>-0.135996</td>\n",
       "      <td>0.024806</td>\n",
       "      <td>-0.039905</td>\n",
       "      <td>-0.036945</td>\n",
       "      <td>-0.011156</td>\n",
       "      <td>1.000000</td>\n",
       "      <td>-0.346265</td>\n",
       "      <td>-0.320829</td>\n",
       "    </tr>\n",
       "    <tr>\n",
       "      <th>region_southeast</th>\n",
       "      <td>-0.011642</td>\n",
       "      <td>0.270025</td>\n",
       "      <td>-0.023066</td>\n",
       "      <td>0.073982</td>\n",
       "      <td>0.068498</td>\n",
       "      <td>0.017117</td>\n",
       "      <td>-0.346265</td>\n",
       "      <td>1.000000</td>\n",
       "      <td>-0.346265</td>\n",
       "    </tr>\n",
       "    <tr>\n",
       "      <th>region_southwest</th>\n",
       "      <td>0.010016</td>\n",
       "      <td>-0.006205</td>\n",
       "      <td>0.021914</td>\n",
       "      <td>-0.043210</td>\n",
       "      <td>-0.036945</td>\n",
       "      <td>-0.004184</td>\n",
       "      <td>-0.320829</td>\n",
       "      <td>-0.346265</td>\n",
       "      <td>1.000000</td>\n",
       "    </tr>\n",
       "  </tbody>\n",
       "</table>\n",
       "</div>"
      ],
      "text/plain": [
       "                       age       bmi  children   charges  smoker_yes  \\\n",
       "age               1.000000  0.109272  0.042469  0.299008   -0.025019   \n",
       "bmi               0.109272  1.000000  0.012759  0.198341    0.003750   \n",
       "children          0.042469  0.012759  1.000000  0.067998    0.007673   \n",
       "charges           0.299008  0.198341  0.067998  1.000000    0.787251   \n",
       "smoker_yes       -0.025019  0.003750  0.007673  0.787251    1.000000   \n",
       "sex_male         -0.020856  0.046371  0.017163  0.057292    0.076185   \n",
       "region_northwest -0.000407 -0.135996  0.024806 -0.039905   -0.036945   \n",
       "region_southeast -0.011642  0.270025 -0.023066  0.073982    0.068498   \n",
       "region_southwest  0.010016 -0.006205  0.021914 -0.043210   -0.036945   \n",
       "\n",
       "                  sex_male  region_northwest  region_southeast  \\\n",
       "age              -0.020856         -0.000407         -0.011642   \n",
       "bmi               0.046371         -0.135996          0.270025   \n",
       "children          0.017163          0.024806         -0.023066   \n",
       "charges           0.057292         -0.039905          0.073982   \n",
       "smoker_yes        0.076185         -0.036945          0.068498   \n",
       "sex_male          1.000000         -0.011156          0.017117   \n",
       "region_northwest -0.011156          1.000000         -0.346265   \n",
       "region_southeast  0.017117         -0.346265          1.000000   \n",
       "region_southwest -0.004184         -0.320829         -0.346265   \n",
       "\n",
       "                  region_southwest  \n",
       "age                       0.010016  \n",
       "bmi                      -0.006205  \n",
       "children                  0.021914  \n",
       "charges                  -0.043210  \n",
       "smoker_yes               -0.036945  \n",
       "sex_male                 -0.004184  \n",
       "region_northwest         -0.320829  \n",
       "region_southeast         -0.346265  \n",
       "region_southwest          1.000000  "
      ]
     },
     "execution_count": 48,
     "metadata": {},
     "output_type": "execute_result"
    }
   ],
   "source": [
    "corr_matrix = df.corr()\n",
    "corr_matrix"
   ]
  },
  {
   "cell_type": "code",
   "execution_count": 49,
   "id": "c57fa3c7",
   "metadata": {},
   "outputs": [
    {
     "data": {
      "text/plain": [
       "age                 0.299008\n",
       "bmi                 0.198341\n",
       "children            0.067998\n",
       "charges             1.000000\n",
       "smoker_yes          0.787251\n",
       "sex_male            0.057292\n",
       "region_northwest   -0.039905\n",
       "region_southeast    0.073982\n",
       "region_southwest   -0.043210\n",
       "Name: charges, dtype: float64"
      ]
     },
     "execution_count": 49,
     "metadata": {},
     "output_type": "execute_result"
    }
   ],
   "source": [
    "# View correlation between charges and other columns\n",
    "corr_matrix['charges']"
   ]
  },
  {
   "cell_type": "markdown",
   "id": "0427ee0f",
   "metadata": {},
   "source": [
    "### To simplify the model, data with correlation absolute values less than 0.1 can be considered insignificant and so they can be dropped."
   ]
  },
  {
   "cell_type": "code",
   "execution_count": 50,
   "id": "52b2b966",
   "metadata": {},
   "outputs": [],
   "source": [
    "df.drop(['children', 'sex_male', 'region_northwest', 'region_southeast', 'region_southwest'], axis=1, inplace=True)"
   ]
  },
  {
   "cell_type": "markdown",
   "id": "93454eac",
   "metadata": {},
   "source": [
    "### We have age, bmi, and smoker_yes as the input data (X), and charges column has the output data (y)."
   ]
  },
  {
   "cell_type": "markdown",
   "id": "5cee3f5f",
   "metadata": {},
   "source": [
    "## Linear regression model using Scikit-learn"
   ]
  },
  {
   "cell_type": "code",
   "execution_count": 53,
   "id": "632fd5c7",
   "metadata": {},
   "outputs": [
    {
     "name": "stdout",
     "output_type": "stream",
     "text": [
      "Slope:  [[  259.54749155   322.61513282 23823.68449531]]\n",
      "Intercept:  [-11676.83042519] \n",
      "\n",
      "Test:\n",
      "       age     bmi  smoker_yes\n",
      "0      19  27.900           1\n",
      "1      18  33.770           0\n",
      "2      28  33.000           0\n",
      "3      33  22.705           0\n",
      "4      32  28.880           0\n",
      "...   ...     ...         ...\n",
      "1333   50  30.970           0\n",
      "1334   18  31.920           0\n",
      "1335   18  36.850           0\n",
      "1336   21  25.800           0\n",
      "1337   61  29.070           1\n",
      "\n",
      "[1338 rows x 3 columns] \n",
      "Predicted:\n",
      " [[26079.21861526]\n",
      " [ 3889.73745805]\n",
      " [ 6236.79872129]\n",
      " ...\n",
      " [ 4883.39206713]\n",
      " [ 2097.13732413]\n",
      " [37357.67296584]] \n",
      "\n",
      "Real:\n",
      "           charges\n",
      "0     16884.92400\n",
      "1      1725.55230\n",
      "2      4449.46200\n",
      "3     21984.47061\n",
      "4      3866.85520\n",
      "...           ...\n",
      "1333  10600.54830\n",
      "1334   2205.98080\n",
      "1335   1629.83350\n",
      "1336   2007.94500\n",
      "1337  29141.36030\n",
      "\n",
      "[1338 rows x 1 columns] \n",
      "\n",
      "R^2-score: 0.7474771588119513\n",
      "Mean Squared Error: 37005395.750507504\n"
     ]
    }
   ],
   "source": [
    "# Build the model\n",
    "X_train = df[['age','bmi','smoker_yes']]\n",
    "y_train = df[['charges']]\n",
    "line = linear_model.LinearRegression()\n",
    "line = line.fit(X_train, y_train)\n",
    "\n",
    "# Test the model using training dataset\n",
    "y_pred = line.predict(X_train)\n",
    "# Show real vs predicted results\n",
    "print('Slope: ',line.coef_)\n",
    "print('Intercept: ',line.intercept_, '\\n')\n",
    "print('Test:\\n', X_train,'\\nPredicted:\\n', line.predict(X_train), '\\n')\n",
    "print('Real:\\n', y_train, '\\n')\n",
    "print(\"R^2-score:\", r2_score(y_train, y_pred))\n",
    "print(\"Mean Squared Error:\", mean_squared_error(y_train, y_pred))"
   ]
  },
  {
   "cell_type": "markdown",
   "id": "6d328d01",
   "metadata": {},
   "source": [
    "### Note that R^2 score represents the normalized version of MSE (Mean Squared Error). MSE value was larger than expected because data were not normalized, which means that we can completely ignore the MSE value and consider the R^2 score as the true MSE value."
   ]
  },
  {
   "cell_type": "code",
   "execution_count": 59,
   "id": "53fdec0f",
   "metadata": {},
   "outputs": [
    {
     "data": {
      "image/png": "[encoded data removed]",
      "text/plain": [
       "<Figure size 432x288 with 1 Axes>"
      ]
     },
     "metadata": {
      "needs_background": "light"
     },
     "output_type": "display_data"
    }
   ],
   "source": [
    "# Plot the results\n",
    "plt.scatter(y_train, y_pred)\n",
    "plt.xlabel('Real Charges')\n",
    "plt.ylabel('Predicted Charges')\n",
    "plt.title('Linear regression using Scikit-learn')\n",
    "plt.show()"
   ]
  },
  {
   "cell_type": "markdown",
   "id": "5f874279",
   "metadata": {},
   "source": [
    "## Linear regression model using Python from scratch implemention"
   ]
  },
  {
   "cell_type": "code",
   "execution_count": 60,
   "id": "72e16916",
   "metadata": {},
   "outputs": [],
   "source": [
    "# Calculate mean and standard deviation of X\n",
    "def normalize(X):\n",
    "    mean = np.mean(X, axis=0)\n",
    "    std = np.std(X, axis=0)\n",
    "    X_norm = (X - mean) / std\n",
    "    return X_norm, mean, std"
   ]
  },
  {
   "cell_type": "code",
   "execution_count": 61,
   "id": "b001ef1a",
   "metadata": {},
   "outputs": [],
   "source": [
    "# Use the input training data and the learning rate alpha, with number of iterations T\n",
    "def lin_regression(X, y, T, alpha):\n",
    "    num_samples, num_features = X.shape\n",
    "\n",
    "    # Initialize w and b values\n",
    "    w = np.zeros((num_features, 1))\n",
    "    b = 0\n",
    "\n",
    "    # Find the gradients gW and gb\n",
    "    for i in range(T):\n",
    "        # Calculate predictions\n",
    "        y_predict = np.dot(X, w) + b\n",
    "        # Calculate gradients\n",
    "        gw = np.dot(X.T, (y_predict - y)) / num_samples\n",
    "        gb = np.sum(y_predict - y) / num_samples\n",
    "        # Update model parameters\n",
    "        w = w - alpha * gw.reshape(-1, 1)\n",
    "        b = b - alpha * gb\n",
    "    \n",
    "    # Final solution\n",
    "    y_predict = np.dot(X, w) + b\n",
    "    return w, b, y_predict"
   ]
  },
  {
   "cell_type": "code",
   "execution_count": 62,
   "id": "c232c8ba",
   "metadata": {},
   "outputs": [
    {
     "name": "stdout",
     "output_type": "stream",
     "text": [
      "Slope: [[0.29872034]\n",
      " [0.16266732]\n",
      " [0.78869716]]\n",
      "Intercept: -2.721457007597603e-17\n",
      "Mean Squared Error: 0.2525579082222526\n"
     ]
    }
   ],
   "source": [
    "X = df[['age','bmi','smoker_yes']]\n",
    "y = df[['charges']]\n",
    "\n",
    "X_norm, X_mean, X_std = normalize(X.values)\n",
    "y_norm, y_mean, y_std = normalize(y.values.reshape(-1, 1))\n",
    "\n",
    "alpha = 0.01 \n",
    "T = 500\n",
    "\n",
    "w, b, y_predict = lin_regression(X_norm, y_norm, T, alpha)\n",
    "mse = np.mean(np.square(y_norm - y_predict))\n",
    "\n",
    "# Denormalize the predicted and the real charges\n",
    "y_predict_denorm = (y_predict * y_std) + y_mean.flatten()\n",
    "y_denorm = (y_norm * y_std) + y_mean.flatten()\n",
    "\n",
    "print(\"Slope:\", w)\n",
    "print(\"Intercept:\", b)\n",
    "print(\"Mean Squared Error:\", mse)"
   ]
  },
  {
   "cell_type": "code",
   "execution_count": 63,
   "id": "97410381",
   "metadata": {},
   "outputs": [
    {
     "data": {
      "image/png": "[encoded data removed]",
      "text/plain": [
       "<Figure size 432x288 with 1 Axes>"
      ]
     },
     "metadata": {
      "needs_background": "light"
     },
     "output_type": "display_data"
    }
   ],
   "source": [
    "# Plot the results\n",
    "plt.scatter(y_denorm, y_predict_denorm)\n",
    "plt.xlabel('Real Charges')\n",
    "plt.ylabel('Predicted Charges')\n",
    "plt.title('Linear regression using Python from scratch implementation')\n",
    "plt.show()"
   ]
  },
  {
   "cell_type": "markdown",
   "id": "bd3daac5",
   "metadata": {},
   "source": [
    "## Scikit-learn Vs Python from scratch:\n",
    "### While both methods showed very similar graphs, the Mean Squared Error for Scikit-learn method was larger than that for Python from scratch implementation method by around 0.49. Considering the size of the dataset, this difference is almost insignificant. Which makes it fair to say that both models are close in terms of accuracy for this particular dataset.\n",
    "\n",
    "### Scikit-learn method is much simpler, easier and faster in implementation due to its built-in functions.\n",
    "### On the other hand, Python from scratch implementation allows more control and understanding of the underlying mathematical concepts."
   ]
  }
 ],
 "metadata": {
  "kernelspec": {
   "display_name": "Python 3 (ipykernel)",
   "language": "python",
   "name": "python3"
  },
  "language_info": {
   "codemirror_mode": {
    "name": "ipython",
    "version": 3
   },
   "file_extension": ".py",
   "mimetype": "text/x-python",
   "name": "python",
   "nbconvert_exporter": "python",
   "pygments_lexer": "ipython3",
   "version": "3.10.8"
  }
 },
 "nbformat": 4,
 "nbformat_minor": 5
}
